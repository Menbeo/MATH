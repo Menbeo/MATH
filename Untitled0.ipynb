{
  "nbformat": 4,
  "nbformat_minor": 0,
  "metadata": {
    "colab": {
      "provenance": []
    },
    "kernelspec": {
      "name": "python3",
      "display_name": "Python 3"
    },
    "language_info": {
      "name": "python"
    }
  },
  "cells": [
    {
      "cell_type": "code",
      "source": [
        "import numpy as np\n",
        "import matplotlib.pyplot as plt\n",
        "import matplotlib.patches as patches\n",
        "\n",
        "# Define grid size\n",
        "grid_size = (20, 20)\n",
        "\n",
        "# Create an empty grid (0 represents empty space)\n",
        "grid = np.zeros(grid_size)\n",
        "\n",
        "# Define number of obstacles\n",
        "num_obstacles = 10  # Adjust for density\n",
        "\n",
        "# Generate obstacles with random sizes\n",
        "for _ in range(num_obstacles):\n",
        "    size_x = np.random.randint(1, 5)  # Width (1 to 4)\n",
        "    size_y = np.random.randint(1, 5)  # Height (1 to 4)\n",
        "\n",
        "    # Find a random position for the obstacle\n",
        "    placed = False\n",
        "    while not placed:\n",
        "        x = np.random.randint(0, grid_size[0] - size_x + 1)\n",
        "        y = np.random.randint(0, grid_size[1] - size_y + 1)\n",
        "\n",
        "        # Check if the space is free\n",
        "        if np.all(grid[x:x+size_x, y:y+size_y] == 0):\n",
        "            grid[x:x+size_x, y:y+size_y] = 1  # Place obstacle\n",
        "            placed = True\n",
        "\n",
        "# Plot the grid\n",
        "fig, ax = plt.subplots(figsize=(10, 10))\n",
        "\n",
        "# Draw grid lines\n",
        "for x in range(grid_size[0] + 1):\n",
        "    ax.plot([x, x], [0, grid_size[1]], 'k', lw=0.5)\n",
        "for y in range(grid_size[1] + 1):\n",
        "    ax.plot([0, grid_size[0]], [y, y], 'k', lw=0.5)\n",
        "\n",
        "# Draw obstacles\n",
        "for x in range(grid_size[0]):\n",
        "    for y in range(grid_size[1]):\n",
        "        if grid[x, y] == 1:\n",
        "            # Find the size of this obstacle\n",
        "            w = 1\n",
        "            h = 1\n",
        "            while x + w < grid_size[0] and grid[x + w, y] == 1:\n",
        "                w += 1\n",
        "            while y + h < grid_size[1] and grid[x, y + h] == 1:\n",
        "                h += 1\n",
        "            # Mark the region as drawn to avoid double-counting\n",
        "            grid[x:x+w, y:y+h] = 2\n",
        "            rect = patches.Rectangle((y, grid_size[0] - x - w), h, w, linewidth=1, edgecolor='black', facecolor='gray')\n",
        "            ax.add_patch(rect)\n",
        "\n",
        "ax.set_xticks(range(grid_size[1] + 1))\n",
        "ax.set_yticks(range(grid_size[0] + 1))\n",
        "ax.set_xlim(0, grid_size[1])\n",
        "ax.set_ylim(0, grid_size[0])\n",
        "ax.set_xticklabels([])\n",
        "ax.set_yticklabels([])\n",
        "ax.set_aspect('equal')\n",
        "ax.set_title(\"20x20 Grid Map with Variable-Sized Obstacles\")\n",
        "\n",
        "plt.show()\n"
      ],
      "metadata": {
        "colab": {
          "base_uri": "https://localhost:8080/",
          "height": 834
        },
        "id": "aFwjbd5smD-Z",
        "outputId": "2107c67d-5c35-41dd-f6af-6104402bfc12"
      },
      "execution_count": 14,
      "outputs": [
        {
          "output_type": "display_data",
          "data": {
            "text/plain": [
              "<Figure size 1000x1000 with 1 Axes>"
            ],
            "image/png": "[encoded data removed]"
          },
          "metadata": {}
        }
      ]
    },
    {
      "cell_type": "code",
      "source": [
        "# Save grid as a NumPy file\n",
        "np.save(\"grid_map.npy\", grid)\n",
        "\n",
        "# Download the file\n",
        "from google.colab import files\n",
        "files.download(\"grid_map.npy\")"
      ],
      "metadata": {
        "colab": {
          "base_uri": "https://localhost:8080/",
          "height": 17
        },
        "id": "X8lFgs2tn94I",
        "outputId": "b8c28ea6-2a67-4d05-a873-91e98caea56e"
      },
      "execution_count": 15,
      "outputs": [
        {
          "output_type": "display_data",
          "data": {
            "text/plain": [
              "<IPython.core.display.Javascript object>"
            ],
            "application/javascript": [
              "\n",
              "    async function download(id, filename, size) {\n",
              "      if (!google.colab.kernel.accessAllowed) {\n",
              "        return;\n",
              "      }\n",
              "      const div = document.createElement('div');\n",
              "      const label = document.createElement('label');\n",
              "      label.textContent = `Downloading \"${filename}\": `;\n",
              "      div.appendChild(label);\n",
              "      const progress = document.createElement('progress');\n",
              "      progress.max = size;\n",
              "      div.appendChild(progress);\n",
              "      document.body.appendChild(div);\n",
              "\n",
              "      const buffers = [];\n",
              "      let downloaded = 0;\n",
              "\n",
              "      const channel = await google.colab.kernel.comms.open(id);\n",
              "      // Send a message to notify the kernel that we're ready.\n",
              "      channel.send({})\n",
              "\n",
              "      for await (const message of channel.messages) {\n",
              "        // Send a message to notify the kernel that we're ready.\n",
              "        channel.send({})\n",
              "        if (message.buffers) {\n",
              "          for (const buffer of message.buffers) {\n",
              "            buffers.push(buffer);\n",
              "            downloaded += buffer.byteLength;\n",
              "            progress.value = downloaded;\n",
              "          }\n",
              "        }\n",
              "      }\n",
              "      const blob = new Blob(buffers, {type: 'application/binary'});\n",
              "      const a = document.createElement('a');\n",
              "      a.href = window.URL.createObjectURL(blob);\n",
              "      a.download = filename;\n",
              "      div.appendChild(a);\n",
              "      a.click();\n",
              "      div.remove();\n",
              "    }\n",
              "  "
            ]
          },
          "metadata": {}
        },
        {
          "output_type": "display_data",
          "data": {
            "text/plain": [
              "<IPython.core.display.Javascript object>"
            ],
            "application/javascript": [
              "download(\"download_656a5b98-e1b6-453c-a09f-37af2bcae43d\", \"grid_map.npy\", 3328)"
            ]
          },
          "metadata": {}
        }
      ]
    }
  ]
}